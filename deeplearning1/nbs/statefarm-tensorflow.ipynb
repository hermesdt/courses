{
 "cells": [
  {
   "cell_type": "code",
   "execution_count": 121,
   "metadata": {},
   "outputs": [],
   "source": [
    "import tensorflow as tf\n",
    "import keras\n",
    "from keras import backend as K\n",
    "import numpy as np\n",
    "import matplotlib.pyplot as plt\n",
    "import os\n",
    "from glob import glob\n",
    "import PIL\n",
    "from PIL import Image\n",
    "from keras.layers import Conv2D, MaxPooling2D, BatchNormalization, Dense, Dropout, Flatten, ZeroPadding2D\n",
    "from keras.optimizers import Adam, RMSprop\n",
    "from keras.models import Sequential\n",
    "from keras.preprocessing import image"
   ]
  },
  {
   "cell_type": "code",
   "execution_count": 51,
   "metadata": {},
   "outputs": [],
   "source": [
    "K.set_image_dim_ordering(\"th\")"
   ]
  },
  {
   "cell_type": "code",
   "execution_count": 52,
   "metadata": {},
   "outputs": [],
   "source": [
    "%matplotlib inline"
   ]
  },
  {
   "cell_type": "code",
   "execution_count": 53,
   "metadata": {},
   "outputs": [],
   "source": [
    "# def get_batches(path, shuffle=True, batch_size=4):\n",
    "shuffle=False\n",
    "batch_size=4\n",
    "path = \"data/state/sample/train\"\n",
    "d = glob(path + \"/*/*\")"
   ]
  },
  {
   "cell_type": "code",
   "execution_count": 115,
   "metadata": {},
   "outputs": [],
   "source": [
    "def get_batches(path, shuffle=True, batch_size=4, class_mode=\"categorical\",\n",
    "                gen=image.ImageDataGenerator(), target_size=(100, 100)):\n",
    "    return gen.flow_from_directory(path, shuffle=shuffle, batch_size=batch_size, target_size=target_size,\n",
    "                                   class_mode=class_mode)"
   ]
  },
  {
   "cell_type": "code",
   "execution_count": 116,
   "metadata": {},
   "outputs": [
    {
     "name": "stdout",
     "output_type": "stream",
     "text": [
      "Found 1000 images belonging to 10 classes.\n",
      "Found 200 images belonging to 10 classes.\n"
     ]
    }
   ],
   "source": [
    "train_batches = get_batches(\"data/state/sample/train\")\n",
    "valid_batches = get_batches(\"data/state/sample/valid\", shuffle=False)"
   ]
  },
  {
   "cell_type": "code",
   "execution_count": 122,
   "metadata": {},
   "outputs": [
    {
     "name": "stdout",
     "output_type": "stream",
     "text": [
      "____________________________________________________________________________________________________\n",
      "Layer (type)                     Output Shape          Param #     Connected to                     \n",
      "====================================================================================================\n",
      "batchnormalization_27 (BatchNorm (None, 3, 100, 100)   12          batchnormalization_input_25[0][0]\n",
      "____________________________________________________________________________________________________\n",
      "flatten_23 (Flatten)             (None, 30000)         0           batchnormalization_27[0][0]      \n",
      "____________________________________________________________________________________________________\n",
      "dense_38 (Dense)                 (None, 10)            300010      flatten_23[0][0]                 \n",
      "====================================================================================================\n",
      "Total params: 300,022\n",
      "Trainable params: 300,016\n",
      "Non-trainable params: 6\n",
      "____________________________________________________________________________________________________\n"
     ]
    }
   ],
   "source": [
    "def create_model():\n",
    "    return Sequential([\n",
    "        BatchNormalization(axis=1, input_shape=(3, 100, 100)),\n",
    "        Flatten(),\n",
    "        Dense(10, activation=\"softmax\")\n",
    "    ])\n",
    "model = create_model()\n",
    "model.compile(optimizer=RMSprop(lr=0.00001), loss=\"categorical_crossentropy\", metrics=[\"accuracy\"])\n",
    "model.summary()"
   ]
  },
  {
   "cell_type": "code",
   "execution_count": 123,
   "metadata": {},
   "outputs": [
    {
     "name": "stdout",
     "output_type": "stream",
     "text": [
      "Epoch 1/1\n",
      "1000/1000 [==============================] - 17s - loss: 2.5314 - acc: 0.1380 - val_loss: 2.2575 - val_acc: 0.2550\n"
     ]
    },
    {
     "data": {
      "text/plain": [
       "<keras.callbacks.History at 0x12c4f4978>"
      ]
     },
     "execution_count": 123,
     "metadata": {},
     "output_type": "execute_result"
    }
   ],
   "source": [
    "model.fit_generator(train_batches, samples_per_epoch=train_batches.nb_sample, nb_epoch=1,\n",
    "                    validation_data=valid_batches, nb_val_samples=valid_batches.nb_sample)"
   ]
  },
  {
   "cell_type": "code",
   "execution_count": null,
   "metadata": {},
   "outputs": [],
   "source": [
    "model.fit_generator(train_batches, samples_per_epoch=train_batches.nb_sample, nb_epoch=1,\n",
    "                    validation_data=valid_batches, nb_val_samples=valid_batches.nb_sample)"
   ]
  },
  {
   "cell_type": "code",
   "execution_count": null,
   "metadata": {},
   "outputs": [],
   "source": []
  }
 ],
 "metadata": {
  "kernelspec": {
   "display_name": "Python 3",
   "language": "python",
   "name": "python3"
  },
  "language_info": {
   "codemirror_mode": {
    "name": "ipython",
    "version": 3
   },
   "file_extension": ".py",
   "mimetype": "text/x-python",
   "name": "python",
   "nbconvert_exporter": "python",
   "pygments_lexer": "ipython3",
   "version": "3.6.3"
  }
 },
 "nbformat": 4,
 "nbformat_minor": 2
}
