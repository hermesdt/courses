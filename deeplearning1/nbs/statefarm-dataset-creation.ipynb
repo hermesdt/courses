{
 "cells": [
  {
   "cell_type": "code",
   "execution_count": 150,
   "metadata": {},
   "outputs": [],
   "source": [
    "import tensorflow as tf\n",
    "import pandas as pd\n",
    "import numpy as np\n",
    "import os, shutil\n",
    "\n",
    "seed = 42"
   ]
  },
  {
   "cell_type": "code",
   "execution_count": 151,
   "metadata": {},
   "outputs": [],
   "source": [
    "base_path = \"data/state\"\n",
    "for directory in [\"valid\", \"sample/valid\", \"sample/train\"]:\n",
    "    dir_path = os.path.join(base_path, directory)\n",
    "    if not os.path.exists(dir_path): os.makedirs(dir_path)"
   ]
  },
  {
   "cell_type": "code",
   "execution_count": 152,
   "metadata": {},
   "outputs": [],
   "source": [
    "df = pd.read_csv(\"data/state/driver_imgs_list.csv\")"
   ]
  },
  {
   "cell_type": "code",
   "execution_count": 153,
   "metadata": {},
   "outputs": [
    {
     "data": {
      "text/html": [
       "<div>\n",
       "<style>\n",
       "    .dataframe thead tr:only-child th {\n",
       "        text-align: right;\n",
       "    }\n",
       "\n",
       "    .dataframe thead th {\n",
       "        text-align: left;\n",
       "    }\n",
       "\n",
       "    .dataframe tbody tr th {\n",
       "        vertical-align: top;\n",
       "    }\n",
       "</style>\n",
       "<table border=\"1\" class=\"dataframe\">\n",
       "  <thead>\n",
       "    <tr style=\"text-align: right;\">\n",
       "      <th></th>\n",
       "      <th>subject</th>\n",
       "      <th>classname</th>\n",
       "      <th>img</th>\n",
       "    </tr>\n",
       "  </thead>\n",
       "  <tbody>\n",
       "    <tr>\n",
       "      <th>0</th>\n",
       "      <td>p002</td>\n",
       "      <td>c0</td>\n",
       "      <td>img_44733.jpg</td>\n",
       "    </tr>\n",
       "    <tr>\n",
       "      <th>1</th>\n",
       "      <td>p002</td>\n",
       "      <td>c0</td>\n",
       "      <td>img_72999.jpg</td>\n",
       "    </tr>\n",
       "    <tr>\n",
       "      <th>2</th>\n",
       "      <td>p002</td>\n",
       "      <td>c0</td>\n",
       "      <td>img_25094.jpg</td>\n",
       "    </tr>\n",
       "  </tbody>\n",
       "</table>\n",
       "</div>"
      ],
      "text/plain": [
       "  subject classname            img\n",
       "0    p002        c0  img_44733.jpg\n",
       "1    p002        c0  img_72999.jpg\n",
       "2    p002        c0  img_25094.jpg"
      ]
     },
     "execution_count": 153,
     "metadata": {},
     "output_type": "execute_result"
    }
   ],
   "source": [
    "df.head(3)"
   ]
  },
  {
   "cell_type": "code",
   "execution_count": 154,
   "metadata": {},
   "outputs": [],
   "source": [
    "subjects = df.subject.unique()\n",
    "train_subjects = pd.Series(subjects).sample(frac=0.7, random_state=seed).values\n",
    "valid_subjects = subjects[~np.isin(subjects, sample_train_subjects)]"
   ]
  },
  {
   "cell_type": "code",
   "execution_count": 157,
   "metadata": {},
   "outputs": [],
   "source": [
    "valid_rows = df[df.subject.isin(valid_subjects)]\n",
    "sample_train_rows = df[df.subject.isin(train_subjects)].sample(n=1000, random_state=seed)\n",
    "sample_valid_rows = df[df.subject.isin(train_subjects) & \\\n",
    "                       (~df.index.isin(sample_train_rows.index))].sample(n=200, random_state=seed)"
   ]
  },
  {
   "cell_type": "code",
   "execution_count": 158,
   "metadata": {},
   "outputs": [],
   "source": [
    "base_path = \"data/state/train\"\n",
    "valid_path = \"data/state/valid\"\n",
    "sample_train_path = \"data/state/sample/train\"\n",
    "sample_valid_path = \"data/state/sample/valid\"\n",
    "\n",
    "structure = [\n",
    "    (valid_path, valid_rows),\n",
    "    (sample_train_path, sample_train_rows),\n",
    "    (sample_valid_path, sample_valid_rows)\n",
    "]\n",
    "\n",
    "for path, rows in structure:\n",
    "    for _, (classname, img) in rows[['classname', 'img']].iterrows():\n",
    "        origin = base_path + \"/{}/{}\".format(classname, img)\n",
    "        destination_dir = path + \"/{}\".format(classname)\n",
    "        os.makedirs(destination_dir, exist_ok=True)\n",
    "        destination = destination_dir + \"/{}\".format(img)\n",
    "        shutil.move(origin, destination)"
   ]
  }
 ],
 "metadata": {
  "kernelspec": {
   "display_name": "Python 3",
   "language": "python",
   "name": "python3"
  },
  "language_info": {
   "codemirror_mode": {
    "name": "ipython",
    "version": 3
   },
   "file_extension": ".py",
   "mimetype": "text/x-python",
   "name": "python",
   "nbconvert_exporter": "python",
   "pygments_lexer": "ipython3",
   "version": "3.6.3"
  }
 },
 "nbformat": 4,
 "nbformat_minor": 1
}
